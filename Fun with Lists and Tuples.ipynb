{
 "cells": [
  {
   "cell_type": "code",
   "execution_count": 1,
   "id": "996d18ba",
   "metadata": {},
   "outputs": [
    {
     "name": "stdout",
     "output_type": "stream",
     "text": [
      "Enter a sequence: [(2, 5), (1, 2), (4, 4), (2, 3), (2, 1)]\n",
      "[(2, 1), (1, 2), (2, 3), (4, 4), (2, 5)]\n"
     ]
    }
   ],
   "source": [
    "def sort_list_last(tuples):\n",
    "    #This function will return the sorted list\n",
    "    def last_element(n):\n",
    "        #This function will help us getting a hold of the last value of the tuple present inside a list\n",
    "        return n[-1]\n",
    "\n",
    "    sorted_tuples = sorted(tuples,key=last_element)#here in key we are not calling the function,but only mentioning it.\n",
    "    return sorted_tuples\n",
    "list_input = eval(input(\"Enter a sequence: \")) #Taking the input from the user\n",
    "print(sort_list_last(list_input))"
   ]
  },
  {
   "cell_type": "code",
   "execution_count": null,
   "id": "814c482e",
   "metadata": {},
   "outputs": [],
   "source": []
  }
 ],
 "metadata": {
  "kernelspec": {
   "display_name": "Python 3 (ipykernel)",
   "language": "python",
   "name": "python3"
  },
  "language_info": {
   "codemirror_mode": {
    "name": "ipython",
    "version": 3
   },
   "file_extension": ".py",
   "mimetype": "text/x-python",
   "name": "python",
   "nbconvert_exporter": "python",
   "pygments_lexer": "ipython3",
   "version": "3.10.9"
  }
 },
 "nbformat": 4,
 "nbformat_minor": 5
}
